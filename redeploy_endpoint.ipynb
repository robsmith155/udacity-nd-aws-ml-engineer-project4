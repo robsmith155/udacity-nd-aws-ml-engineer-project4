{
 "cells": [
  {
   "cell_type": "markdown",
   "id": "3b8c4856",
   "metadata": {},
   "source": [
    "This notebook is simply to redeploy one of the models created from the `train_and_deploy-solution.ipynb` notebook. "
   ]
  },
  {
   "cell_type": "code",
   "execution_count": 1,
   "id": "581f3046",
   "metadata": {},
   "outputs": [],
   "source": [
    "import sagemaker\n",
    "from sagemaker.pytorch import PyTorch\n",
    "from sagemaker import get_execution_role\n",
    "from sagemaker.pytorch import PyTorchModel\n",
    "from sagemaker.predictor import Predictor"
   ]
  },
  {
   "cell_type": "markdown",
   "id": "789de112",
   "metadata": {},
   "source": [
    "Get the SageMaker execution role that this notebook is using and create the Predictor class."
   ]
  },
  {
   "cell_type": "code",
   "execution_count": 2,
   "id": "08061b7d",
   "metadata": {},
   "outputs": [],
   "source": [
    "role = sagemaker.get_execution_role()"
   ]
  },
  {
   "cell_type": "code",
   "execution_count": 3,
   "id": "6465b98a",
   "metadata": {},
   "outputs": [],
   "source": [
    "jpeg_serializer = sagemaker.serializers.IdentitySerializer(\"image/jpeg\")\n",
    "json_deserializer = sagemaker.deserializers.JSONDeserializer()\n",
    "\n",
    "\n",
    "class ImagePredictor(Predictor):\n",
    "    def __init__(self, endpoint_name, sagemaker_session):\n",
    "        super(ImagePredictor, self).__init__(\n",
    "            endpoint_name,\n",
    "            sagemaker_session=sagemaker_session,\n",
    "            serializer=jpeg_serializer,\n",
    "            deserializer=json_deserializer,\n",
    "        )"
   ]
  },
  {
   "cell_type": "markdown",
   "id": "770522c9",
   "metadata": {},
   "source": [
    "We need to specify the path of the model output from one of the training jobs. You can do this by finding the file in your S3 bucket or checking the training jobs in the SageMaker console. There is probably a better way to do this using the SDK."
   ]
  },
  {
   "cell_type": "code",
   "execution_count": 8,
   "id": "a3440e7b",
   "metadata": {},
   "outputs": [],
   "source": [
    "model_location = 's3://sagemaker-us-east-1-377574710449/dog-pytorch-2022-04-13-15-56-38-480/output/model.tar.gz'"
   ]
  },
  {
   "cell_type": "code",
   "execution_count": 9,
   "id": "44a6a44b",
   "metadata": {},
   "outputs": [],
   "source": [
    "pytorch_model = PyTorchModel(model_data=model_location, role=role, entry_point='infernce2.py',py_version='py3',\n",
    "                             framework_version='1.4',\n",
    "                             predictor_cls=ImagePredictor)"
   ]
  },
  {
   "cell_type": "markdown",
   "id": "03dd7712",
   "metadata": {},
   "source": [
    "Now deploy the endpoint:"
   ]
  },
  {
   "cell_type": "code",
   "execution_count": 10,
   "id": "407babe3",
   "metadata": {},
   "outputs": [
    {
     "name": "stdout",
     "output_type": "stream",
     "text": [
      "------!"
     ]
    }
   ],
   "source": [
    "predictor = pytorch_model.deploy(initial_instance_count=1, instance_type='ml.m5.large')"
   ]
  },
  {
   "cell_type": "code",
   "execution_count": 11,
   "id": "3b09446b",
   "metadata": {},
   "outputs": [
    {
     "data": {
      "text/plain": [
       "'pytorch-inference-2022-04-15-14-32-59-360'"
      ]
     },
     "execution_count": 11,
     "metadata": {},
     "output_type": "execute_result"
    }
   ],
   "source": [
    "predictor.endpoint_name"
   ]
  },
  {
   "cell_type": "markdown",
   "id": "61b1f68e",
   "metadata": {},
   "source": [
    "Once finished, make sure to delete the endpoint."
   ]
  },
  {
   "cell_type": "code",
   "execution_count": 12,
   "id": "696ffe0e",
   "metadata": {},
   "outputs": [],
   "source": [
    "predictor.delete_endpoint()"
   ]
  }
 ],
 "metadata": {
  "kernelspec": {
   "display_name": "conda_pytorch_p36",
   "language": "python",
   "name": "conda_pytorch_p36"
  },
  "language_info": {
   "codemirror_mode": {
    "name": "ipython",
    "version": 3
   },
   "file_extension": ".py",
   "mimetype": "text/x-python",
   "name": "python",
   "nbconvert_exporter": "python",
   "pygments_lexer": "ipython3",
   "version": "3.6.13"
  }
 },
 "nbformat": 4,
 "nbformat_minor": 5
}
